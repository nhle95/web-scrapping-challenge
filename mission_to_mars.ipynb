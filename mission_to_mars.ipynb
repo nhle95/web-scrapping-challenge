{
 "cells": [
  {
   "cell_type": "code",
   "execution_count": 5,
   "id": "95292196",
   "metadata": {},
   "outputs": [],
   "source": [
    "#load neccessary package\n",
    "from splinter import Browser\n",
    "import requests\n",
    "import os\n",
    "from bs4 import BeautifulSoup\n",
    "from webdriver_manager.chrome import ChromeDriverManager\n",
    "import pandas as pd\n",
    "import time"
   ]
  },
  {
   "cell_type": "markdown",
   "id": "01cc2dae",
   "metadata": {},
   "source": [
    "# NASA MARS News"
   ]
  },
  {
   "cell_type": "code",
   "execution_count": 2,
   "id": "455c1ffe",
   "metadata": {},
   "outputs": [],
   "source": [
    "# set up splinter\n",
    "executable_path = {'executable_path': ChromeDriverManager().install()}\n",
    "browser = Browser('chrome', **executable_path, headless=False) # headless = True you will not see the browser\n"
   ]
  },
  {
   "cell_type": "code",
   "execution_count": 3,
   "id": "ade2afc9",
   "metadata": {},
   "outputs": [
    {
     "data": {
      "text/plain": [
       "'<html>\\n <head>\\n  <meta charset=\"utf-8\"/>\\n  <meta content=\"width=device-width, initial-scale=1\" name=\"viewport\"/>\\n  <link crossorigin=\"anonymous\" href=\"https://cdn.jsdelivr.net/npm/bootstrap@5.0.0-beta1/dist/css/bootstrap.min.css\" integrity=\"sha384-giJF6kkoqNQ00vy+HMDP7azOuL0xtbfIcaT9wjKHr8RbDVddVHyTfAAsrekwKmP1\" rel=\"stylesheet\"/>\\n  <link href=\"css/font.css\" rel=\"stylesheet\" type=\"text/css\"/>\\n  <link href=\"css/app.css\" rel=\"stylesheet\" type=\"text/css\"/>\\n  <link crossorigin=\"anonymous\" href=\"https://pro.fontawesome.com/releases/v5.10.0/css/all.css\" integrity=\"sha384-AYmEC3Yw5cVb3ZcuHtOA93w35dYTsvhLPVnYs9eStHfGJvOvKxVfELGroGkvsg+p\" rel=\"stylesheet\"/>\\n  <title>\\n   News - Mars Exploration Program\\n  </title>\\n </head>\\n <body>\\n  <div class=\"col-md-12\">\\n   <div class=\"row\">\\n    <nav class=\"navbar navbar-expand-lg navbar-light fixed-top\">\\n     <div class=\"container-fluid\">\\n      <a class=\"navbar-brand\" href=\"#\">\\n       <img src=\"image/nasa.png\" width=\"80\"/>\\n       <span class=\"logo\">\\n        MARS Planet Science\\n       </span>\\n       <span class=\"logo1\">\\n        Exploration Program\\n       </span>\\n      </a>\\n      <button aria-controls=\"navbarNav\" aria-expanded=\"false\" aria-label=\"Toggle navigation\" class=\"navbar-toggler\" data-bs-target=\"#navbarNav\" data-bs-toggle=\"collapse\" type=\"button\">\\n       <span class=\"navbar-toggler-icon\">\\n       </span>\\n      </button>\\n      <div class=\"collapse navbar-collapse justify-content-end\" id=\"navbarNav\">\\n       <ul class=\"navbar-nav\">\\n        <li class=\"nav-item\">\\n         <a aria-current=\"page\" class=\"nav-link active\" href=\"#\">\\n          The Red Planet\\n         </a>\\n        </li>\\n        <li class=\"nav-item\">\\n         <a class=\"nav-link\" href=\"#\">\\n          The Program\\n         </a>\\n        </li>\\n        <li class=\"nav-item\">\\n         <a class=\"nav-link\" href=\"#\">\\n          News &amp; Events\\n         </a>\\n        </li>\\n        <li class=\"nav-item\">\\n         <a class=\"nav-link\" href=\"#\">\\n          Multimedia\\n         </a>\\n        </li>\\n        <li class=\"nav-item\">\\n         <a class=\"nav-link\" href=\"#\">\\n          Missions\\n         </a>\\n        </li>\\n        <li class=\"nav-item\">\\n         <a class=\"nav-link\" href=\"#\">\\n          More\\n         </a>\\n        </li>\\n        <li class=\"nav-item nav_search\">\\n         <a class=\"nav-link\" href=\"#\">\\n         </a>\\n        </li>\\n       </ul>\\n      </div>\\n     </div>\\n    </nav>\\n    <section class=\"search\">\\n     <div class=\"container\">\\n      <h1>\\n       News\\n      </h1>\\n      <div class=\"col-md-12 filter\">\\n       <div class=\"row\">\\n        <div class=\"col-md-3 search_binder\">\\n         <input class=\"search_field\" name=\"search\" type=\"text\"/>\\n         <input class=\"search_submit\" name=\"search\" type=\"text\"/>\\n        </div>\\n        <div class=\"col-md-3\">\\n         <select aria-label=\"Default select example\" class=\"form-select\" id=\"year\">\\n          <option selected=\"\">\\n           Latest\\n          </option>\\n          <option>\\n           2019\\n          </option>\\n          <option>\\n           2020\\n          </option>\\n         </select>\\n        </div>\\n        <div class=\"col-md-3\">\\n         <select aria-label=\"Default select example\" class=\"form-select\" id=\"cat\">\\n          <option selected=\"\">\\n           All Categories\\n          </option>\\n          <option>\\n           Feature Stories\\n          </option>\\n          <option>\\n           Press Releases\\n          </option>\\n          <option>\\n           Status Reports\\n          </option>\\n         </select>\\n        </div>\\n        <div class=\"col-md-3\">\\n        </div>\\n       </div>\\n      </div>\\n     </div>\\n    </section>\\n    <section class=\"image_and_description_container\">\\n     <div class=\"container\" id=\"news\">\\n      <div class=\"col-md-12\">\\n       <hr/>\\n       <div class=\"row\">\\n        <div class=\"col-md-4\">\\n         <div class=\"list_image\">\\n          <img src=\"https://mars.nasa.gov/system/news_items/list_view_images/8528_PIA23376-320x240.jpg\"/>\\n         </div>\\n        </div>\\n        <div class=\"col-md-8\">\\n         <div class=\"list_text\">\\n          <div class=\"list_date\">\\n           December 11, 2022\\n          </div>\\n          <div class=\"content_title\">\\n           HiRISE Views NASA\\'s InSight and Curiosity on Mars\\n          </div>\\n          <div class=\"article_teaser_body\">\\n           New images taken from space offer the clearest orbital glimpse yet of InSight as well as a view of Curiosity rolling along.\\n          </div>\\n         </div>\\n        </div>\\n       </div>\\n      </div>\\n      <div class=\"col-md-12\">\\n       <hr/>\\n       <div class=\"row\">\\n        <div class=\"col-md-4\">\\n         <div class=\"list_image\">\\n          <img src=\"https://mars.nasa.gov/system/news_items/list_view_images/8723_PIA24031-320.jpg\"/>\\n         </div>\\n        </div>\\n        <div class=\"col-md-8\">\\n         <div class=\"list_text\">\\n          <div class=\"list_date\">\\n           December 10, 2022\\n          </div>\\n          <div class=\"content_title\">\\n           NASA\\'s Perseverance Rover Will Carry First Spacesuit Materials to Mars\\n          </div>\\n          <div class=\"article_teaser_body\">\\n           In a Q&amp;A, spacesuit designer Amy Ross explains how five samples, including a piece of helmet visor, will be tested aboard the rover, which is targeting a July 30 launch.\\n          </div>\\n         </div>\\n        </div>\\n       </div>\\n      </div>\\n      <div class=\"col-md-12\">\\n       <hr/>\\n       <div class=\"row\">\\n        <div class=\"col-md-4\">\\n         <div class=\"list_image\">\\n          <img src=\"https://mars.nasa.gov/system/news_items/list_view_images/8545_24679_PIA23470-1041_320x240px.jpg\"/>\\n         </div>\\n        </div>\\n        <div class=\"col-md-8\">\\n         <div class=\"list_text\">\\n          <div class=\"list_date\">\\n           December 7, 2022\\n          </div>\\n          <div class=\"content_title\">\\n           NASA\\'s Mars 2020 Heads Into the Test Chamber\\n          </div>\\n          <div class=\"article_teaser_body\">\\n           In this time-lapse video taken at JPL, engineers move the Mars 2020 rover into a large vacuum chamber for testing in Mars-like environmental conditions.\\n          </div>\\n         </div>\\n        </div>\\n       </div>\\n      </div>\\n      <div class=\"col-md-12\">\\n       <hr/>\\n       <div class=\"row\">\\n        <div class=\"col-md-4\">\\n         <div class=\"list_image\">\\n          <img src=\"https://mars.nasa.gov/system/news_items/list_view_images/8689_PIA23897-320x240.jpg\"/>\\n         </div>\\n        </div>\\n        <div class=\"col-md-8\">\\n         <div class=\"list_text\">\\n          <div class=\"list_date\">\\n           December 7, 2022\\n          </div>\\n          <div class=\"content_title\">\\n           NASA\\'s Mars Rover Drivers Need Your Help\\n          </div>\\n          <div class=\"article_teaser_body\">\\n           Using an online tool to label Martian terrain types, you can train an artificial intelligence algorithm that could improve the way engineers guide the Curiosity rover.\\n          </div>\\n         </div>\\n        </div>\\n       </div>\\n      </div>\\n      <div class=\"col-md-12\">\\n       <hr/>\\n       <div class=\"row\">\\n        <div class=\"col-md-4\">\\n         <div class=\"list_image\">\\n          <img src=\"https://mars.nasa.gov/system/news_items/list_view_images/8556_PIA23305_320x240px.jpg\"/>\\n         </div>\\n        </div>\\n        <div class=\"col-md-8\">\\n         <div class=\"list_text\">\\n          <div class=\"list_date\">\\n           December 7, 2022\\n          </div>\\n          <div class=\"content_title\">\\n           NASA Updates Mars 2020 Mission Environmental Review\\n          </div>\\n          <div class=\"article_teaser_body\">\\n           NASA and the Department of Energy have completed a more detailed risk analysis for the Mars 2020 rover launch from Florida.\\n          </div>\\n         </div>\\n        </div>\\n       </div>\\n      </div>\\n      <div class=\"col-md-12\">\\n       <hr/>\\n       <div class=\"row\">\\n        <div class=\"col-md-4\">\\n         <div class=\"list_image\">\\n          <img src=\"https://mars.nasa.gov/system/news_items/list_view_images/8622_1-PIA23764-RoverNamePlateonMars-320x240.jpg\"/>\\n         </div>\\n        </div>\\n        <div class=\"col-md-8\">\\n         <div class=\"list_text\">\\n          <div class=\"list_date\">\\n           December 4, 2022\\n          </div>\\n          <div class=\"content_title\">\\n           Virginia Middle School Student Earns Honor of Naming NASA\\'s Next Mars Rover\\n          </div>\\n          <div class=\"article_teaser_body\">\\n           NASA chose a seventh-grader from Virginia as winner of the agency\\'s \"Name the Rover\" essay contest. Alexander Mather\\'s entry for \"Perseverance\" was voted tops among 28,000 entries.\\n          </div>\\n         </div>\\n        </div>\\n       </div>\\n      </div>\\n      <div class=\"col-md-12\">\\n       <hr/>\\n       <div class=\"row\">\\n        <div class=\"col-md-4\">\\n         <div class=\"list_image\">\\n          <img src=\"https://mars.nasa.gov/system/news_items/list_view_images/8778_3d-320x240.jpg\"/>\\n         </div>\\n        </div>\\n        <div class=\"col-md-8\">\\n         <div class=\"list_text\">\\n          <div class=\"list_date\">\\n           December 3, 2022\\n          </div>\\n          <div class=\"content_title\">\\n           NASA\\'s Perseverance Rover Bringing 3D-Printed Metal Parts to Mars\\n          </div>\\n          <div class=\"article_teaser_body\">\\n           For hobbyists and makers, 3D printing expands creative possibilities; for specialized engineers, it\\'s also key to next-generation spacecraft design.\\n          </div>\\n         </div>\\n        </div>\\n       </div>\\n      </div>\\n      <div class=\"col-md-12\">\\n       <hr/>\\n       <div class=\"row\">\\n        <div class=\"col-md-4\">\\n         <div class=\"list_image\">\\n          <img src=\"https://mars.nasa.gov/system/news_items/list_view_images/8765_PIA24040-320.jpg\"/>\\n         </div>\\n        </div>\\n        <div class=\"col-md-8\">\\n         <div class=\"list_text\">\\n          <div class=\"list_date\">\\n           December 3, 2022\\n          </div>\\n          <div class=\"content_title\">\\n           AI Is Helping Scientists Discover Fresh Craters on Mars\\n          </div>\\n          <div class=\"article_teaser_body\">\\n           It\\'s the first time machine learning has been used to find previously unknown craters on the Red Planet.\\n          </div>\\n         </div>\\n        </div>\\n       </div>\\n      </div>\\n      <div class=\"col-md-12\">\\n       <hr/>\\n       <div class=\"row\">\\n        <div class=\"col-md-4\">\\n         <div class=\"list_image\">\\n          <img src=\"https://mars.nasa.gov/system/news_items/list_view_images/8548_mars_seasonal_oxygen_gale_crater-320x240.jpg\"/>\\n         </div>\\n        </div>\\n        <div class=\"col-md-8\">\\n         <div class=\"list_text\">\\n          <div class=\"list_date\">\\n           November 30, 2022\\n          </div>\\n          <div class=\"content_title\">\\n           With Mars Methane Mystery Unsolved, Curiosity Serves Scientists a New One: Oxygen\\n          </div>\\n          <div class=\"article_teaser_body\">\\n           For the first time in the history of space exploration, scientists have measured the seasonal changes in the gases that fill the air directly above the surface of Gale Crater on Mars.\\n          </div>\\n         </div>\\n        </div>\\n       </div>\\n      </div>\\n      <div class=\"col-md-12\">\\n       <hr/>\\n       <div class=\"row\">\\n        <div class=\"col-md-4\">\\n         <div class=\"list_image\">\\n          <img src=\"https://mars.nasa.gov/system/news_items/list_view_images/8594_apo_proton_aurora_no_text-320x240.jpg\"/>\\n         </div>\\n        </div>\\n        <div class=\"col-md-8\">\\n         <div class=\"list_text\">\\n          <div class=\"list_date\">\\n           November 22, 2022\\n          </div>\\n          <div class=\"content_title\">\\n           Newfound Martian Aurora Actually the Most Common; Sheds Light on Mars\\' Changing Climate\\n          </div>\\n          <div class=\"article_teaser_body\">\\n           A type of Martian aurora first identified by NASA’s MAVEN spacecraft in 2016 is actually the most common form of aurora occurring on the Red Planet, according to new results from the mission.\\n          </div>\\n         </div>\\n        </div>\\n       </div>\\n      </div>\\n      <div class=\"col-md-12\">\\n       <hr/>\\n       <div class=\"row\">\\n        <div class=\"col-md-4\">\\n         <div class=\"list_image\">\\n          <img src=\"https://mars.nasa.gov/system/news_items/list_view_images/8534_20191022_ClaraMa_compare-320x240.jpg\"/>\\n         </div>\\n        </div>\\n        <div class=\"col-md-8\">\\n         <div class=\"list_text\">\\n          <div class=\"list_date\">\\n           November 18, 2022\\n          </div>\\n          <div class=\"content_title\">\\n           Naming a NASA Mars Rover Can Change Your Life\\n          </div>\\n          <div class=\"article_teaser_body\">\\n           Want to name the robotic scientist NASA is sending to Mars in 2020? The student who named Curiosity — the rover currently exploring Mars — will tell you this is an opportunity worth taking.\\n          </div>\\n         </div>\\n        </div>\\n       </div>\\n      </div>\\n      <div class=\"col-md-12\">\\n       <hr/>\\n       <div class=\"row\">\\n        <div class=\"col-md-4\">\\n         <div class=\"list_image\">\\n          <img src=\"https://mars.nasa.gov/system/news_items/list_view_images/8812_Perseverance-festooning-collage-320.jpg\"/>\\n         </div>\\n        </div>\\n        <div class=\"col-md-8\">\\n         <div class=\"list_text\">\\n          <div class=\"list_date\">\\n           November 18, 2022\\n          </div>\\n          <div class=\"content_title\">\\n           5 Hidden Gems Are Riding Aboard NASA\\'s Perseverance Rover\\n          </div>\\n          <div class=\"article_teaser_body\">\\n           The symbols, mottos, and small objects added to the agency\\'s newest Mars rover serve a variety of purposes, from functional to decorative.\\n          </div>\\n         </div>\\n        </div>\\n       </div>\\n      </div>\\n      <div class=\"col-md-12\">\\n       <hr/>\\n       <div class=\"row\">\\n        <div class=\"col-md-4\">\\n         <div class=\"list_image\">\\n          <img src=\"https://mars.nasa.gov/system/news_items/list_view_images/8797_maven_illo_v7-320.jpg\"/>\\n         </div>\\n        </div>\\n        <div class=\"col-md-8\">\\n         <div class=\"list_text\">\\n          <div class=\"list_date\">\\n           November 15, 2022\\n          </div>\\n          <div class=\"content_title\">\\n           Heat and Dust Help Launch Martian Water Into Space, Scientists Find\\n          </div>\\n          <div class=\"article_teaser_body\">\\n           Scientists using an instrument aboard NASA’s Mars Atmosphere and Volatile EvolutioN, or MAVEN, spacecraft have discovered that water vapor near the surface of the Red Planet is lofted higher into the atmosphere than anyone expected was possible.\\n          </div>\\n         </div>\\n        </div>\\n       </div>\\n      </div>\\n      <div class=\"col-md-12\">\\n       <hr/>\\n       <div class=\"row\">\\n        <div class=\"col-md-4\">\\n         <div class=\"list_image\">\\n          <img src=\"https://mars.nasa.gov/system/news_items/list_view_images/8621_sol2597_2600_mosaic-320x240.jpg\"/>\\n         </div>\\n        </div>\\n        <div class=\"col-md-8\">\\n         <div class=\"list_text\">\\n          <div class=\"list_date\">\\n           November 14, 2022\\n          </div>\\n          <div class=\"content_title\">\\n           NASA\\'s Curiosity Mars Rover Snaps Its Highest-Resolution Panorama Yet\\n          </div>\\n          <div class=\"article_teaser_body\">\\n           To go along with the stunning 1.8-billion-pixel image, a new video offers a sweeping view of the Red Planet.\\n          </div>\\n         </div>\\n        </div>\\n       </div>\\n      </div>\\n      <div class=\"col-md-12\">\\n       <hr/>\\n       <div class=\"row\">\\n        <div class=\"col-md-4\">\\n         <div class=\"list_image\">\\n          <img src=\"https://mars.nasa.gov/system/news_items/list_view_images/8536_Mars_chemist_320x240px.jpg\"/>\\n         </div>\\n        </div>\\n        <div class=\"col-md-8\">\\n         <div class=\"list_text\">\\n          <div class=\"list_date\">\\n           November 12, 2022\\n          </div>\\n          <div class=\"content_title\">\\n           New Selfie Shows Curiosity, the Mars Chemist\\n          </div>\\n          <div class=\"article_teaser_body\">\\n           The NASA rover performed a special chemistry experiment at the location captured in its newest self-portrait.\\n          </div>\\n         </div>\\n        </div>\\n       </div>\\n      </div>\\n     </div>\\n     <hr class=\"container\" style=\"margin: 25px auto;width: 83%;\"/>\\n     <button class=\"btn disable\" id=\"more\" onclick=\"populateContent()\">\\n      More\\n     </button>\\n    </section>\\n    <section class=\"last_news\">\\n     <div class=\"container\">\\n      <div class=\"row\">\\n       <div class=\"col-12\">\\n        <h2>\\n         You Might Also Like\\n        </h2>\\n       </div>\\n       <!--  <a class=\" prev\" href=\"#carouselExampleIndicators2\" role=\"button\" data-slide=\"prev\">\\n                  <i class=\"fas fa-angle-left\"></i>\\n                  </a>\\n                  <a class=\" next\" href=\"#carouselExampleIndicators2\" role=\"button\" data-slide=\"next\">\\n                  <i class=\"fas fa-angle-right\"></i>\\n                  </a> -->\\n       <div class=\"col-12\">\\n        <div class=\"carousel slide\" data-ride=\"carousel\" id=\"carouselExampleIndicators2\">\\n         <div class=\"carousel-inner\">\\n          <div class=\"carousel-item active\">\\n           <div class=\"row\">\\n            <div class=\"col-md-4 mb-3\">\\n             <div class=\"card\">\\n              <img alt=\"100%x280\" class=\"img-fluid\" src=\"https://mars.nasa.gov/system/news_items/main_images/8716_PIA23499-16.jpg\"/>\\n              <div class=\"card-body\">\\n               <p class=\"card-text\">\\n                NASA to Broadcast Mars 2020 Perseverance Launch, Prelaunch Activities\\n               </p>\\n              </div>\\n             </div>\\n            </div>\\n            <div class=\"col-md-4 mb-3\">\\n             <div class=\"card\">\\n              <img alt=\"100%x280\" class=\"img-fluid\" src=\"https://mars.nasa.gov/system/news_items/main_images/8716_PIA23499-16.jpg\"/>\\n              <div class=\"card-body\">\\n               <p class=\"card-text\">\\n                The Launch Is Approaching for NASA\\'s Next Mars Rover, Perseverance\\n               </p>\\n              </div>\\n             </div>\\n            </div>\\n            <div class=\"col-md-4 mb-3\">\\n             <div class=\"card\">\\n              <img alt=\"100%x280\" class=\"img-fluid\" src=\"https://mars.nasa.gov/system/news_items/main_images/8692_PIA23920-web.jpg\"/>\\n              <div class=\"card-body\">\\n               <p class=\"card-text\">\\n                NASA to Hold Mars 2020 Perseverance Rover Launch Briefing\\n               </p>\\n              </div>\\n             </div>\\n            </div>\\n           </div>\\n          </div>\\n          <div class=\"carousel-item\">\\n           <div class=\"row\">\\n            <div class=\"col-md-4 mb-3\">\\n             <div class=\"card\">\\n              <img alt=\"100%x280\" class=\"img-fluid\" src=\"https://images.unsplash.com/photo-1532771098148-525cefe10c23?ixlib=rb-0.3.5&amp;q=80&amp;fm=jpg&amp;crop=entropy&amp;cs=tinysrgb&amp;w=1080&amp;fit=max&amp;ixid=eyJhcHBfaWQiOjMyMDc0fQ&amp;s=3f317c1f7a16116dec454fbc267dd8e4\"/>\\n              <div class=\"card-body\">\\n               <p class=\"card-text\">\\n                With supporting text below as a natural lead-in to additional content.\\n               </p>\\n              </div>\\n             </div>\\n            </div>\\n            <div class=\"col-md-4 mb-3\">\\n             <div class=\"card\">\\n              <img alt=\"100%x280\" class=\"img-fluid\" src=\"https://images.unsplash.com/photo-1532715088550-62f09305f765?ixlib=rb-0.3.5&amp;q=80&amp;fm=jpg&amp;crop=entropy&amp;cs=tinysrgb&amp;w=1080&amp;fit=max&amp;ixid=eyJhcHBfaWQiOjMyMDc0fQ&amp;s=ebadb044b374504ef8e81bdec4d0e840\"/>\\n              <div class=\"card-body\">\\n               <p class=\"card-text\">\\n                With supporting text below as a natural lead-in to additional content.\\n               </p>\\n              </div>\\n             </div>\\n            </div>\\n            <div class=\"col-md-4 mb-3\">\\n             <div class=\"card\">\\n              <img alt=\"100%x280\" class=\"img-fluid\" src=\"https://images.unsplash.com/photo-1506197603052-3cc9c3a201bd?ixlib=rb-0.3.5&amp;q=80&amp;fm=jpg&amp;crop=entropy&amp;cs=tinysrgb&amp;w=1080&amp;fit=max&amp;ixid=eyJhcHBfaWQiOjMyMDc0fQ&amp;s=0754ab085804ae8a3b562548e6b4aa2e\"/>\\n              <div class=\"card-body\">\\n               <p class=\"card-text\">\\n                With supporting text below as a natural lead-in to additional content.\\n               </p>\\n              </div>\\n             </div>\\n            </div>\\n           </div>\\n          </div>\\n          <div class=\"carousel-item\">\\n           <div class=\"row\">\\n            <div class=\"col-md-4 mb-3\">\\n             <div class=\"card\">\\n              <img alt=\"100%x280\" class=\"img-fluid\" src=\"https://images.unsplash.com/photo-1507525428034-b723cf961d3e?ixlib=rb-0.3.5&amp;q=80&amp;fm=jpg&amp;crop=entropy&amp;cs=tinysrgb&amp;w=1080&amp;fit=max&amp;ixid=eyJhcHBfaWQiOjMyMDc0fQ&amp;s=ee8417f0ea2a50d53a12665820b54e23\"/>\\n              <div class=\"card-body\">\\n               <p class=\"card-text\">\\n                With supporting text below as a natural lead-in to additional content.\\n               </p>\\n              </div>\\n             </div>\\n            </div>\\n            <div class=\"col-md-4 mb-3\">\\n             <div class=\"card\">\\n              <img alt=\"100%x280\" class=\"img-fluid\" src=\"https://images.unsplash.com/photo-1532777946373-b6783242f211?ixlib=rb-0.3.5&amp;q=80&amp;fm=jpg&amp;crop=entropy&amp;cs=tinysrgb&amp;w=1080&amp;fit=max&amp;ixid=eyJhcHBfaWQiOjMyMDc0fQ&amp;s=8ac55cf3a68785643998730839663129\"/>\\n              <div class=\"card-body\">\\n               <p class=\"card-text\">\\n                With supporting text below as a natural lead-in to additional content.\\n               </p>\\n              </div>\\n             </div>\\n            </div>\\n            <div class=\"col-md-4 mb-3\">\\n             <div class=\"card\">\\n              <img alt=\"100%x280\" class=\"img-fluid\" src=\"https://images.unsplash.com/photo-1532763303805-529d595877c5?ixlib=rb-0.3.5&amp;q=80&amp;fm=jpg&amp;crop=entropy&amp;cs=tinysrgb&amp;w=1080&amp;fit=max&amp;ixid=eyJhcHBfaWQiOjMyMDc0fQ&amp;s=5ee4fd5d19b40f93eadb21871757eda6\"/>\\n              <div class=\"card-body\">\\n               <p class=\"card-text\">\\n                With supporting text below as a natural lead-in to additional content.\\n               </p>\\n              </div>\\n             </div>\\n            </div>\\n           </div>\\n          </div>\\n         </div>\\n        </div>\\n       </div>\\n      </div>\\n     </div>\\n    </section>\\n    <section class=\"footer\">\\n     <div class=\"container\">\\n      <div class=\"col-md-12\">\\n       <div class=\"row\">\\n        <div class=\"col-md-3\">\\n         <h5>\\n          The Red Planet\\n         </h5>\\n         <ul>\\n          <li>\\n           Dashboard\\n          </li>\\n          <li>\\n           Science Goals\\n          </li>\\n          <li>\\n           The Planet\\n          </li>\\n         </ul>\\n        </div>\\n        <div class=\"col-md-3\">\\n         <h5>\\n          The Program\\n         </h5>\\n         <ul>\\n          <li>\\n           Mission Statement\\n          </li>\\n          <li>\\n           About the Program\\n          </li>\\n          <li>\\n           Organization Why Mars?\\n          </li>\\n         </ul>\\n        </div>\\n        <div class=\"col-md-3\">\\n         <h5>\\n          Multimedia\\n         </h5>\\n         <ul>\\n          <li>\\n           Images\\n          </li>\\n          <li>\\n           Videos\\n          </li>\\n          <li>\\n           More Resources\\n          </li>\\n         </ul>\\n        </div>\\n        <div class=\"col-md-3\">\\n         <h5>\\n          Missions\\n         </h5>\\n         <ul>\\n          <li>\\n           Past\\n          </li>\\n          <li>\\n           Present\\n          </li>\\n          <li>\\n           Future\\n          </li>\\n         </ul>\\n        </div>\\n       </div>\\n      </div>\\n     </div>\\n    </section>\\n    <script src=\"https://code.jquery.com/jquery-1.12.4.min.js\" type=\"text/javascript\">\\n    </script>\\n    <script src=\"https://cdn.jsdelivr.net/npm/@popperjs/core@2.5.4/dist/umd/popper.min.js\">\\n    </script>\\n    <script src=\"https://cdn.jsdelivr.net/npm/bootstrap@5.0.0-beta1/dist/js/bootstrap.min.js\">\\n    </script>\\n    <script src=\"js/app.js\">\\n    </script>\\n   </div>\\n  </div>\\n </body>\\n</html>'"
      ]
     },
     "execution_count": 3,
     "metadata": {},
     "output_type": "execute_result"
    }
   ],
   "source": [
    "# visit the website using browser\n",
    "url = \"https://redplanetscience.com\"\n",
    "browser.visit(url)\n",
    "html = browser.html\n",
    "soup = BeautifulSoup(html,'html.parser')\n",
    "soup.prettify()"
   ]
  },
  {
   "cell_type": "code",
   "execution_count": 4,
   "id": "c7fcfc11",
   "metadata": {},
   "outputs": [
    {
     "name": "stdout",
     "output_type": "stream",
     "text": [
      "December 11, 2022\n"
     ]
    }
   ],
   "source": [
    "# collect the latest time \n",
    "latest_time = soup.find_all(\"div\",class_=\"list_date\")[0].text\n",
    "print(latest_time)\n"
   ]
  },
  {
   "cell_type": "code",
   "execution_count": 5,
   "id": "3f239438",
   "metadata": {},
   "outputs": [
    {
     "name": "stdout",
     "output_type": "stream",
     "text": [
      "HiRISE Views NASA's InSight and Curiosity on Mars\n"
     ]
    }
   ],
   "source": [
    "# collect the latest news title\n",
    "latest_title = soup.find_all(\"div\",class_=\"content_title\")[0].text\n",
    "print(latest_title)"
   ]
  },
  {
   "cell_type": "code",
   "execution_count": 6,
   "id": "6b36a85b",
   "metadata": {},
   "outputs": [
    {
     "name": "stdout",
     "output_type": "stream",
     "text": [
      "New images taken from space offer the clearest orbital glimpse yet of InSight as well as a view of Curiosity rolling along.\n"
     ]
    }
   ],
   "source": [
    "# collect the latest news paragraph\n",
    "latest_para = soup.find_all(\"div\",class_=\"article_teaser_body\")[0].text\n",
    "print(latest_para)\n"
   ]
  },
  {
   "cell_type": "code",
   "execution_count": 7,
   "id": "e139a410",
   "metadata": {},
   "outputs": [],
   "source": [
    "# kill the browser\n",
    "browser.quit()"
   ]
  },
  {
   "cell_type": "markdown",
   "id": "19bd1b21",
   "metadata": {},
   "source": [
    "# JPL Mars Space Images—Featured Image"
   ]
  },
  {
   "cell_type": "code",
   "execution_count": 8,
   "id": "c39a0ba8",
   "metadata": {},
   "outputs": [],
   "source": [
    "# set up splinter\n",
    "executable_path = {'executable_path': ChromeDriverManager().install()}\n",
    "browser = Browser('chrome', **executable_path, headless=False) # headless = True you will not see the browser"
   ]
  },
  {
   "cell_type": "code",
   "execution_count": 9,
   "id": "d9e1896f",
   "metadata": {},
   "outputs": [],
   "source": [
    "# visit the website using browser\n",
    "url2 = \"https://spaceimages-mars.com\"\n",
    "browser.visit(url2)\n"
   ]
  },
  {
   "cell_type": "code",
   "execution_count": 10,
   "id": "e073f587",
   "metadata": {},
   "outputs": [
    {
     "data": {
      "text/plain": [
       "'<html class=\"\">\\n <head>\\n  <meta charset=\"utf-8\"/>\\n  <meta content=\"width=device-width, initial-scale=1\" name=\"viewport\"/>\\n  <link href=\"https://maxcdn.bootstrapcdn.com/bootstrap/4.0.0/css/bootstrap.min.css\" rel=\"stylesheet\"/>\\n  <!-- <link rel=\"stylesheet\" type=\"text/css\" href=\"css/font.css\"> -->\\n  <link href=\"css/app.css\" rel=\"stylesheet\" type=\"text/css\"/>\\n  <link href=\"https://stackpath.bootstrapcdn.com/font-awesome/4.7.0/css/font-awesome.min.css\" rel=\"stylesheet\" type=\"text/css\"/>\\n  <title>\\n   Space Image\\n  </title>\\n  <style type=\"text/css\">\\n   .fancybox-margin{margin-right:17px;}\\n  </style>\\n </head>\\n <body>\\n  <div class=\"header\">\\n   <nav class=\"navbar navbar-expand-lg\">\\n    <a class=\"navbar-brand\" href=\"#\">\\n     <img id=\"logo\" src=\"image/nasa.png\"/>\\n     <span class=\"logo\">\\n      Jet Propulsion Laboratory\\n     </span>\\n     <span class=\"logo1\">\\n      California Institute of Technology\\n     </span>\\n    </a>\\n    <button aria-controls=\"navbarNav\" aria-expanded=\"false\" aria-label=\"Toggle navigation\" class=\"navbar-toggler\" data-target=\"#navbarNav\" data-toggle=\"collapse\" type=\"button\">\\n     <span class=\"navbar-toggler-icon\">\\n     </span>\\n    </button>\\n    <div class=\"collapse navbar-collapse justify-content-end\" id=\"navbarNav\">\\n     <ul class=\"navbar-nav\">\\n      <li class=\"nav-item active\">\\n       <a class=\"nav-link\" href=\"#\">\\n        <i aria-hidden=\"true\" class=\"fa fa-bars\">\\n        </i>\\n        MENU\\n        <i aria-hidden=\"true\" class=\"fa fa-search\">\\n        </i>\\n       </a>\\n      </li>\\n     </ul>\\n    </div>\\n   </nav>\\n   <div class=\"floating_text_area\">\\n    <h2 class=\"brand_title\">\\n     FEATURED IMAGE\\n    </h2>\\n    <h1 class=\"media_feature_title\">\\n     Dusty Space Cloud\\n    </h1>\\n    <br/>\\n    <a class=\"showimg fancybox-thumbs\" href=\"image/featured/mars2.jpg\" target=\"_blank\">\\n     <button class=\"btn btn-outline-light\">\\n      FULL IMAGE\\n     </button>\\n    </a>\\n   </div>\\n   <img class=\"headerimage fade-in\" src=\"image/featured/mars2.jpg\"/>\\n  </div>\\n  <div class=\"search sticky\">\\n   <div class=\"col-md-12\">\\n    <div class=\"row\">\\n     <div class=\"col-md-6\">\\n      <input name=\"Search\" placeholder=\"Search\" type=\"text\"/>\\n     </div>\\n     <div class=\"col-md-6\">\\n      <select aria-label=\"Default select example\" class=\"form-select\" id=\"options\">\\n       <option onchange=\"0\" selected=\"\">\\n        Mars\\n       </option>\\n       <!-- <option data-filter=\"sun\" class=\"button\">Mars</option> -->\\n       <option class=\"button\" data-filter=\"Sun\">\\n        Sun\\n       </option>\\n       <option class=\"button\" data-filter=\"earth\">\\n        Earth\\n       </option>\\n       <option class=\"button\" data-filter=\"ida\">\\n        Ida\\n       </option>\\n       <option class=\"button\" data-filter=\"jupiter\">\\n        Jupiter\\n       </option>\\n       <option class=\"button\" data-filter=\"venus\">\\n        Venus\\n       </option>\\n      </select>\\n     </div>\\n    </div>\\n   </div>\\n  </div>\\n  <div class=\"container mt-5\">\\n   <div class=\"col-md-12\">\\n    <div class=\"row\">\\n     <div class=\"col-md-6\">\\n      <h1>\\n       Images\\n      </h1>\\n     </div>\\n     <div class=\"col-md-6\" id=\"icon\">\\n      <div class=\"icon2\">\\n      </div>\\n      <div class=\"icon1\">\\n      </div>\\n     </div>\\n    </div>\\n   </div>\\n   <!-- first div -->\\n   <div class=\"div1\" id=\"filter\">\\n    <div class=\"thmbgroup\">\\n    </div>\\n   </div>\\n   <!-- first div ends -->\\n   <!-- second div starts -->\\n   <div class=\"col-md-12 grid-margin\" id=\"column\">\\n    <ul class=\"post-list\">\\n     <li class=\"post-heading\">\\n     </li>\\n    </ul>\\n   </div>\\n   <!-- second div starts -->\\n  </div>\\n  <div class=\"first imgcontainer mt-3\">\\n   <div class=\"col-md-12\">\\n    <div class=\"row\">\\n     <div class=\"col-md-3\">\\n      <img id=\"pic\" src=\"\"/>\\n     </div>\\n    </div>\\n   </div>\\n  </div>\\n  <!-- end -->\\n  <div class=\"module_gallery container\">\\n   <div class=\"col-md-12\">\\n    <div class=\"row\">\\n     <div class=\"col-md-6\">\\n      <div class=\"card\">\\n       <img alt=\"Card image cap\" class=\"card-img-top\" src=\"https://www.jpl.nasa.gov/assets/images/content/tmp/images/jpl_photojournal(3x1).jpg\"/>\\n       <div class=\"card-body\">\\n        <h5 class=\"card-title\">\\n         JPL Photojournal\\n        </h5>\\n        <p class=\"card-text\">\\n         Access to the full library of publicly released images from various Solar System exploration programs\\n        </p>\\n       </div>\\n      </div>\\n     </div>\\n     <div class=\"col-md-6\">\\n      <div class=\"card\">\\n       <img alt=\"Card image cap\" class=\"card-img-top\" src=\"https://www.jpl.nasa.gov/assets/images/content/tmp/images/nasa_images(3x1).jpg\"/>\\n       <div class=\"card-body\">\\n        <h5 class=\"card-title\">\\n         Great images in NASA\\n        </h5>\\n        <p class=\"card-text\">\\n         A selection of the best-known images from a half-century of exploration and discovery\\n        </p>\\n       </div>\\n      </div>\\n     </div>\\n    </div>\\n   </div>\\n  </div>\\n  <div class=\"multi_teaser\">\\n   <div class=\"container\">\\n    <h1>\\n     You Might Also Like\\n    </h1>\\n    <div class=\"col-md-12 mt-5\">\\n     <div class=\"row\">\\n      <div class=\"col-md-4\">\\n       <div class=\"card\">\\n        <img alt=\"Card image cap\" class=\"card-img-top\" src=\"https://imagecache.jpl.nasa.gov/images/640x350/C1-PIA24304---CatScanMars-16-640x350.gif\"/>\\n        <div class=\"card-body\">\\n         <p class=\"card-text\">\\n          Access to the full library of publicly released images from various Solar System exploration programs\\n         </p>\\n        </div>\\n       </div>\\n      </div>\\n      <div class=\"col-md-4\">\\n       <div class=\"card\">\\n        <img alt=\"Card image cap\" class=\"card-img-top\" src=\"https://imagecache.jpl.nasa.gov/images/640x350/PIA23491-16-640x350.jpg\"/>\\n        <div class=\"card-body\">\\n         <p class=\"card-text\">\\n          Access to the full library of publicly released images from various Solar System exploration programs\\n         </p>\\n        </div>\\n       </div>\\n      </div>\\n      <div class=\"col-md-4\">\\n       <div class=\"card\">\\n        <img alt=\"Card image cap\" class=\"card-img-top\" src=\"https://imagecache.jpl.nasa.gov/images/640x350/C1-PIA23180-16-640x350.gif\"/>\\n        <div class=\"card-body\">\\n         <p class=\"card-text\">\\n          Access to the full library of publicly released images from various Solar System exploration programs\\n         </p>\\n        </div>\\n       </div>\\n      </div>\\n     </div>\\n    </div>\\n   </div>\\n  </div>\\n  <div class=\"footer\">\\n   <div class=\"container\">\\n    <div class=\"col-md-12\">\\n     <div class=\"row\">\\n      <div class=\"col-md-3\">\\n       <h4>\\n        About JPL\\n       </h4>\\n       <ul>\\n        <li>\\n         About JPL\\n        </li>\\n        <li>\\n         JPL Vision\\n        </li>\\n        <li>\\n         Executive Council\\n        </li>\\n        <li>\\n         History\\n        </li>\\n       </ul>\\n      </div>\\n      <div class=\"col-md-3\">\\n       <h4>\\n        Education\\n       </h4>\\n       <ul>\\n        <li>\\n         Intern\\n        </li>\\n        <li>\\n         Learn\\n        </li>\\n        <li>\\n         Teach\\n        </li>\\n        <li>\\n         News\\n        </li>\\n       </ul>\\n      </div>\\n      <div class=\"col-md-3\">\\n       <h4>\\n        Our Sites\\n       </h4>\\n       <ul>\\n        <li>\\n         Asteroid Watch\\n        </li>\\n        <li>\\n         Basics of Spaceflight\\n        </li>\\n        <li>\\n         Cassini - Mission to Saturn\\n        </li>\\n        <li>\\n         Climate Kids\\n        </li>\\n       </ul>\\n      </div>\\n      <div class=\"col-md-3\">\\n       <h4>\\n        Galleries\\n       </h4>\\n       <ul>\\n        <li>\\n         JPL Space Images\\n        </li>\\n        <li>\\n         Videos\\n        </li>\\n        <li>\\n         Infographics\\n        </li>\\n        <li>\\n         Photojournal\\n        </li>\\n       </ul>\\n      </div>\\n     </div>\\n    </div>\\n   </div>\\n  </div>\\n  <!--<div class=\"showFullimage\">\\n\\t<button class=\"btn btn-outline-light hideimage\" onclick=hideimage()> Close</button>\\n\\t<img class=\"fullimage fade-in\" src=\"\">\\n</div>-->\\n  <!-- <script src=\"js/jquery.easeScroll.js\"></script>  -->\\n  <script src=\"js/jquery-3.5.1.min.js\">\\n  </script>\\n  <!-- <script src=\"js/jquery-3.2.1.slim.min.js\"></script> -->\\n  <script src=\"js/demo.js\">\\n  </script>\\n  <!-- <script src=\"js/app.js\"></script> -->\\n  <script src=\"https://cdnjs.cloudflare.com/ajax/libs/popper.js/1.12.9/umd/popper.min.js\">\\n  </script>\\n  <script src=\"https://maxcdn.bootstrapcdn.com/bootstrap/4.0.0/js/bootstrap.min.js\">\\n  </script>\\n  <script src=\"js/fancyBox/jquery.fancybox.pack.js?v=2.1.5\" type=\"text/javascript\">\\n  </script>\\n  <link href=\"js/fancyBox/jquery.fancybox.css?v=2.1.5\" media=\"screen\" rel=\"stylesheet\" type=\"text/css\"/>\\n  <link href=\"js/fancyBox/helpers/jquery.fancybox-thumbs.css?v=1.0.7\" rel=\"stylesheet\" type=\"text/css\"/>\\n  <script src=\"js/fancyBox/helpers/jquery.fancybox-thumbs.js?v=1.0.7\" type=\"text/javascript\">\\n  </script>\\n </body>\\n</html>'"
      ]
     },
     "execution_count": 10,
     "metadata": {},
     "output_type": "execute_result"
    }
   ],
   "source": [
    "html2 = browser.html\n",
    "soup2 = BeautifulSoup(html2,'html.parser')\n",
    "soup2.prettify()\n"
   ]
  },
  {
   "cell_type": "code",
   "execution_count": 11,
   "id": "00d18160",
   "metadata": {},
   "outputs": [
    {
     "data": {
      "text/plain": [
       "'https://spaceimages-mars.com/image/featured/mars2.jpg'"
      ]
     },
     "execution_count": 11,
     "metadata": {},
     "output_type": "execute_result"
    }
   ],
   "source": [
    "# collect the latest image\n",
    "image =soup2.find(\"img\", class_=\"headerimage\")\n",
    "featured_image_url = \"https://spaceimages-mars.com/\" + image['src']\n",
    "featured_image_url\n"
   ]
  },
  {
   "cell_type": "code",
   "execution_count": 12,
   "id": "3e157ea4",
   "metadata": {},
   "outputs": [],
   "source": [
    "# kill the browser\n",
    "browser.quit()"
   ]
  },
  {
   "cell_type": "markdown",
   "id": "bd74469c",
   "metadata": {},
   "source": [
    "# MARS FACTS"
   ]
  },
  {
   "cell_type": "code",
   "execution_count": 13,
   "id": "a52d3630",
   "metadata": {},
   "outputs": [
    {
     "data": {
      "text/plain": [
       "[                         0                1                2\n",
       " 0  Mars - Earth Comparison             Mars            Earth\n",
       " 1                Diameter:         6,779 km        12,742 km\n",
       " 2                    Mass:  6.39 × 10^23 kg  5.97 × 10^24 kg\n",
       " 3                   Moons:                2                1\n",
       " 4       Distance from Sun:   227,943,824 km   149,598,262 km\n",
       " 5          Length of Year:   687 Earth days      365.24 days\n",
       " 6             Temperature:     -87 to -5 °C      -88 to 58°C,\n",
       "                       0                              1\n",
       " 0  Equatorial Diameter:                       6,792 km\n",
       " 1       Polar Diameter:                       6,752 km\n",
       " 2                 Mass:  6.39 × 10^23 kg (0.11 Earths)\n",
       " 3                Moons:          2 ( Phobos & Deimos )\n",
       " 4       Orbit Distance:       227,943,824 km (1.38 AU)\n",
       " 5         Orbit Period:           687 days (1.9 years)\n",
       " 6  Surface Temperature:                   -87 to -5 °C\n",
       " 7         First Record:              2nd millennium BC\n",
       " 8          Recorded By:           Egyptian astronomers]"
      ]
     },
     "execution_count": 13,
     "metadata": {},
     "output_type": "execute_result"
    }
   ],
   "source": [
    "url3 = \"https://galaxyfacts-mars.com\"\n",
    "tables = pd.read_html(url3)\n",
    "tables"
   ]
  },
  {
   "cell_type": "code",
   "execution_count": 14,
   "id": "7e0b9a0e",
   "metadata": {},
   "outputs": [
    {
     "data": {
      "text/html": [
       "<div>\n",
       "<style scoped>\n",
       "    .dataframe tbody tr th:only-of-type {\n",
       "        vertical-align: middle;\n",
       "    }\n",
       "\n",
       "    .dataframe tbody tr th {\n",
       "        vertical-align: top;\n",
       "    }\n",
       "\n",
       "    .dataframe thead th {\n",
       "        text-align: right;\n",
       "    }\n",
       "</style>\n",
       "<table border=\"1\" class=\"dataframe\">\n",
       "  <thead>\n",
       "    <tr style=\"text-align: right;\">\n",
       "      <th></th>\n",
       "      <th>0</th>\n",
       "      <th>1</th>\n",
       "      <th>2</th>\n",
       "    </tr>\n",
       "  </thead>\n",
       "  <tbody>\n",
       "    <tr>\n",
       "      <th>0</th>\n",
       "      <td>Mars - Earth Comparison</td>\n",
       "      <td>Mars</td>\n",
       "      <td>Earth</td>\n",
       "    </tr>\n",
       "    <tr>\n",
       "      <th>1</th>\n",
       "      <td>Diameter:</td>\n",
       "      <td>6,779 km</td>\n",
       "      <td>12,742 km</td>\n",
       "    </tr>\n",
       "    <tr>\n",
       "      <th>2</th>\n",
       "      <td>Mass:</td>\n",
       "      <td>6.39 × 10^23 kg</td>\n",
       "      <td>5.97 × 10^24 kg</td>\n",
       "    </tr>\n",
       "    <tr>\n",
       "      <th>3</th>\n",
       "      <td>Moons:</td>\n",
       "      <td>2</td>\n",
       "      <td>1</td>\n",
       "    </tr>\n",
       "    <tr>\n",
       "      <th>4</th>\n",
       "      <td>Distance from Sun:</td>\n",
       "      <td>227,943,824 km</td>\n",
       "      <td>149,598,262 km</td>\n",
       "    </tr>\n",
       "    <tr>\n",
       "      <th>5</th>\n",
       "      <td>Length of Year:</td>\n",
       "      <td>687 Earth days</td>\n",
       "      <td>365.24 days</td>\n",
       "    </tr>\n",
       "    <tr>\n",
       "      <th>6</th>\n",
       "      <td>Temperature:</td>\n",
       "      <td>-87 to -5 °C</td>\n",
       "      <td>-88 to 58°C</td>\n",
       "    </tr>\n",
       "  </tbody>\n",
       "</table>\n",
       "</div>"
      ],
      "text/plain": [
       "                         0                1                2\n",
       "0  Mars - Earth Comparison             Mars            Earth\n",
       "1                Diameter:         6,779 km        12,742 km\n",
       "2                    Mass:  6.39 × 10^23 kg  5.97 × 10^24 kg\n",
       "3                   Moons:                2                1\n",
       "4       Distance from Sun:   227,943,824 km   149,598,262 km\n",
       "5          Length of Year:   687 Earth days      365.24 days\n",
       "6             Temperature:     -87 to -5 °C      -88 to 58°C"
      ]
     },
     "execution_count": 14,
     "metadata": {},
     "output_type": "execute_result"
    }
   ],
   "source": [
    "df = tables[0]\n",
    "df"
   ]
  },
  {
   "cell_type": "code",
   "execution_count": 16,
   "id": "d59d6e53",
   "metadata": {},
   "outputs": [
    {
     "data": {
      "text/html": [
       "<div>\n",
       "<style scoped>\n",
       "    .dataframe tbody tr th:only-of-type {\n",
       "        vertical-align: middle;\n",
       "    }\n",
       "\n",
       "    .dataframe tbody tr th {\n",
       "        vertical-align: top;\n",
       "    }\n",
       "\n",
       "    .dataframe thead th {\n",
       "        text-align: right;\n",
       "    }\n",
       "</style>\n",
       "<table border=\"1\" class=\"dataframe\">\n",
       "  <thead>\n",
       "    <tr style=\"text-align: right;\">\n",
       "      <th></th>\n",
       "      <th>Description</th>\n",
       "      <th>Mars</th>\n",
       "      <th>Earth</th>\n",
       "    </tr>\n",
       "  </thead>\n",
       "  <tbody>\n",
       "    <tr>\n",
       "      <th>0</th>\n",
       "      <td>Mars - Earth Comparison</td>\n",
       "      <td>Mars</td>\n",
       "      <td>Earth</td>\n",
       "    </tr>\n",
       "    <tr>\n",
       "      <th>1</th>\n",
       "      <td>Diameter:</td>\n",
       "      <td>6,779 km</td>\n",
       "      <td>12,742 km</td>\n",
       "    </tr>\n",
       "    <tr>\n",
       "      <th>2</th>\n",
       "      <td>Mass:</td>\n",
       "      <td>6.39 × 10^23 kg</td>\n",
       "      <td>5.97 × 10^24 kg</td>\n",
       "    </tr>\n",
       "    <tr>\n",
       "      <th>3</th>\n",
       "      <td>Moons:</td>\n",
       "      <td>2</td>\n",
       "      <td>1</td>\n",
       "    </tr>\n",
       "    <tr>\n",
       "      <th>4</th>\n",
       "      <td>Distance from Sun:</td>\n",
       "      <td>227,943,824 km</td>\n",
       "      <td>149,598,262 km</td>\n",
       "    </tr>\n",
       "    <tr>\n",
       "      <th>5</th>\n",
       "      <td>Length of Year:</td>\n",
       "      <td>687 Earth days</td>\n",
       "      <td>365.24 days</td>\n",
       "    </tr>\n",
       "    <tr>\n",
       "      <th>6</th>\n",
       "      <td>Temperature:</td>\n",
       "      <td>-87 to -5 °C</td>\n",
       "      <td>-88 to 58°C</td>\n",
       "    </tr>\n",
       "  </tbody>\n",
       "</table>\n",
       "</div>"
      ],
      "text/plain": [
       "               Description             Mars            Earth\n",
       "0  Mars - Earth Comparison             Mars            Earth\n",
       "1                Diameter:         6,779 km        12,742 km\n",
       "2                    Mass:  6.39 × 10^23 kg  5.97 × 10^24 kg\n",
       "3                   Moons:                2                1\n",
       "4       Distance from Sun:   227,943,824 km   149,598,262 km\n",
       "5          Length of Year:   687 Earth days      365.24 days\n",
       "6             Temperature:     -87 to -5 °C      -88 to 58°C"
      ]
     },
     "execution_count": 16,
     "metadata": {},
     "output_type": "execute_result"
    }
   ],
   "source": [
    "#rename columns header\n",
    "df.columns =['Description', 'Mars', 'Earth']\n",
    "df\n"
   ]
  },
  {
   "cell_type": "code",
   "execution_count": 17,
   "id": "f4e76456",
   "metadata": {},
   "outputs": [
    {
     "data": {
      "text/html": [
       "<div>\n",
       "<style scoped>\n",
       "    .dataframe tbody tr th:only-of-type {\n",
       "        vertical-align: middle;\n",
       "    }\n",
       "\n",
       "    .dataframe tbody tr th {\n",
       "        vertical-align: top;\n",
       "    }\n",
       "\n",
       "    .dataframe thead th {\n",
       "        text-align: right;\n",
       "    }\n",
       "</style>\n",
       "<table border=\"1\" class=\"dataframe\">\n",
       "  <thead>\n",
       "    <tr style=\"text-align: right;\">\n",
       "      <th></th>\n",
       "      <th>Description</th>\n",
       "      <th>Mars</th>\n",
       "      <th>Earth</th>\n",
       "    </tr>\n",
       "  </thead>\n",
       "  <tbody>\n",
       "    <tr>\n",
       "      <th>1</th>\n",
       "      <td>Diameter:</td>\n",
       "      <td>6,779 km</td>\n",
       "      <td>12,742 km</td>\n",
       "    </tr>\n",
       "    <tr>\n",
       "      <th>2</th>\n",
       "      <td>Mass:</td>\n",
       "      <td>6.39 × 10^23 kg</td>\n",
       "      <td>5.97 × 10^24 kg</td>\n",
       "    </tr>\n",
       "    <tr>\n",
       "      <th>3</th>\n",
       "      <td>Moons:</td>\n",
       "      <td>2</td>\n",
       "      <td>1</td>\n",
       "    </tr>\n",
       "    <tr>\n",
       "      <th>4</th>\n",
       "      <td>Distance from Sun:</td>\n",
       "      <td>227,943,824 km</td>\n",
       "      <td>149,598,262 km</td>\n",
       "    </tr>\n",
       "    <tr>\n",
       "      <th>5</th>\n",
       "      <td>Length of Year:</td>\n",
       "      <td>687 Earth days</td>\n",
       "      <td>365.24 days</td>\n",
       "    </tr>\n",
       "    <tr>\n",
       "      <th>6</th>\n",
       "      <td>Temperature:</td>\n",
       "      <td>-87 to -5 °C</td>\n",
       "      <td>-88 to 58°C</td>\n",
       "    </tr>\n",
       "  </tbody>\n",
       "</table>\n",
       "</div>"
      ],
      "text/plain": [
       "          Description             Mars            Earth\n",
       "1           Diameter:         6,779 km        12,742 km\n",
       "2               Mass:  6.39 × 10^23 kg  5.97 × 10^24 kg\n",
       "3              Moons:                2                1\n",
       "4  Distance from Sun:   227,943,824 km   149,598,262 km\n",
       "5     Length of Year:   687 Earth days      365.24 days\n",
       "6        Temperature:     -87 to -5 °C      -88 to 58°C"
      ]
     },
     "execution_count": 17,
     "metadata": {},
     "output_type": "execute_result"
    }
   ],
   "source": [
    "#drop the first row\n",
    "df = df.iloc[1: , :]\n",
    "df\n"
   ]
  },
  {
   "cell_type": "code",
   "execution_count": 18,
   "id": "3e179198",
   "metadata": {},
   "outputs": [],
   "source": [
    "df.to_html('marsfacts.html', index=False)\n"
   ]
  },
  {
   "cell_type": "markdown",
   "id": "e00003e7",
   "metadata": {},
   "source": [
    "# MARS HEMISPHERES"
   ]
  },
  {
   "cell_type": "code",
   "execution_count": 6,
   "id": "31f94ab8",
   "metadata": {},
   "outputs": [],
   "source": [
    "# set up splinter\n",
    "executable_path = {'executable_path': ChromeDriverManager().install()}\n",
    "browser = Browser('chrome', **executable_path, headless=False) # headless = True you will not see the browser\n"
   ]
  },
  {
   "cell_type": "code",
   "execution_count": 14,
   "id": "7f28d4a4",
   "metadata": {},
   "outputs": [],
   "source": [
    "# visit Mars Hemispheres \n",
    "url4 = 'https://marshemispheres.com/'\n",
    "browser.visit(url4)\n",
    "marshemispheres_html = browser.html\n",
    "soup = BeautifulSoup(marshemispheres_html, 'html.parser')\n",
    "divs =soup.find_all(\"div\", class_=\"item\")\n",
    "hemisphere_image_urls = []"
   ]
  },
  {
   "cell_type": "code",
   "execution_count": 15,
   "id": "70c8e2f5",
   "metadata": {},
   "outputs": [],
   "source": [
    "titles = []\n",
    "img_urls = []\n",
    "for div in range(len(divs)):\n",
    "    titles.append(divs[div].h3.text)\n",
    "    img_urls.append(\"https://marshemispheres.com/\" + divs[div].img[\"src\"])\n",
    "\n",
    "for title, img_url in zip(titles,img_urls):\n",
    "    hemisphere_image_url = {'title':title,'img_url':img_url}\n",
    "    hemisphere_image_urls.append(hemisphere_image_url)"
   ]
  },
  {
   "cell_type": "code",
   "execution_count": 17,
   "id": "d77ff560",
   "metadata": {},
   "outputs": [],
   "source": [
    "# kill the browser\n",
    "browser.quit()"
   ]
  },
  {
   "cell_type": "code",
   "execution_count": 18,
   "id": "ba628741",
   "metadata": {},
   "outputs": [
    {
     "data": {
      "text/plain": [
       "[{'title': 'Cerberus Hemisphere Enhanced',\n",
       "  'img_url': 'https://marshemispheres.com/images/39d3266553462198bd2fbc4d18fbed17_cerberus_enhanced.tif_thumb.png'},\n",
       " {'title': 'Schiaparelli Hemisphere Enhanced',\n",
       "  'img_url': 'https://marshemispheres.com/images/08eac6e22c07fb1fe72223a79252de20_schiaparelli_enhanced.tif_thumb.png'},\n",
       " {'title': 'Syrtis Major Hemisphere Enhanced',\n",
       "  'img_url': 'https://marshemispheres.com/images/55a0a1e2796313fdeafb17c35925e8ac_syrtis_major_enhanced.tif_thumb.png'},\n",
       " {'title': 'Valles Marineris Hemisphere Enhanced',\n",
       "  'img_url': 'https://marshemispheres.com/images/4e59980c1c57f89c680c0e1ccabbeff1_valles_marineris_enhanced.tif_thumb.png'}]"
      ]
     },
     "execution_count": 18,
     "metadata": {},
     "output_type": "execute_result"
    }
   ],
   "source": [
    "hemisphere_image_urls"
   ]
  },
  {
   "cell_type": "code",
   "execution_count": null,
   "id": "2e8a6790",
   "metadata": {},
   "outputs": [],
   "source": []
  }
 ],
 "metadata": {
  "kernelspec": {
   "display_name": "Python 3 (ipykernel)",
   "language": "python",
   "name": "python3"
  },
  "language_info": {
   "codemirror_mode": {
    "name": "ipython",
    "version": 3
   },
   "file_extension": ".py",
   "mimetype": "text/x-python",
   "name": "python",
   "nbconvert_exporter": "python",
   "pygments_lexer": "ipython3",
   "version": "3.9.12"
  }
 },
 "nbformat": 4,
 "nbformat_minor": 5
}
